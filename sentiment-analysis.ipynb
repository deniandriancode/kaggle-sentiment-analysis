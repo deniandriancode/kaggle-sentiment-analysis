{
 "cells": [
  {
   "cell_type": "code",
   "execution_count": 1,
   "id": "90067705",
   "metadata": {
    "_cell_guid": "b1076dfc-b9ad-4769-8c92-a6c4dae69d19",
    "_uuid": "8f2839f25d086af736a60e9eeb907d3b93b6e0e5",
    "execution": {
     "iopub.execute_input": "2023-09-09T15:46:24.072423Z",
     "iopub.status.busy": "2023-09-09T15:46:24.071878Z",
     "iopub.status.idle": "2023-09-09T15:46:25.434093Z",
     "shell.execute_reply": "2023-09-09T15:46:25.432983Z"
    },
    "papermill": {
     "duration": 1.373002,
     "end_time": "2023-09-09T15:46:25.436968",
     "exception": false,
     "start_time": "2023-09-09T15:46:24.063966",
     "status": "completed"
    },
    "tags": []
   },
   "outputs": [
    {
     "name": "stdout",
     "output_type": "stream",
     "text": [
      "--2023-09-09 15:46:25--  https://raw.githubusercontent.com/Hrd2D/Sentiment-analysis-on-Google-Play-store-apps-reviews/master/google_play_store_apps_reviews_training.csv\r\n",
      "Resolving raw.githubusercontent.com (raw.githubusercontent.com)... 185.199.108.133, 185.199.109.133, 185.199.110.133, ...\r\n",
      "Connecting to raw.githubusercontent.com (raw.githubusercontent.com)|185.199.108.133|:443... connected.\r\n",
      "HTTP request sent, awaiting response... 200 OK\r\n",
      "Length: 229743 (224K) [text/plain]\r\n",
      "Saving to: ‘google_play_store_apps_reviews_training.csv’\r\n",
      "\r\n",
      "google_play_store_a 100%[===================>] 224.36K  --.-KB/s    in 0.04s   \r\n",
      "\r\n",
      "2023-09-09 15:46:25 (5.37 MB/s) - ‘google_play_store_apps_reviews_training.csv’ saved [229743/229743]\r\n",
      "\r\n"
     ]
    }
   ],
   "source": [
    "!wget https://raw.githubusercontent.com/Hrd2D/Sentiment-analysis-on-Google-Play-store-apps-reviews/master/google_play_store_apps_reviews_training.csv"
   ]
  },
  {
   "cell_type": "code",
   "execution_count": 2,
   "id": "f46fca17",
   "metadata": {
    "execution": {
     "iopub.execute_input": "2023-09-09T15:46:25.451541Z",
     "iopub.status.busy": "2023-09-09T15:46:25.451115Z",
     "iopub.status.idle": "2023-09-09T15:46:43.272694Z",
     "shell.execute_reply": "2023-09-09T15:46:43.271442Z"
    },
    "papermill": {
     "duration": 17.832293,
     "end_time": "2023-09-09T15:46:43.275670",
     "exception": false,
     "start_time": "2023-09-09T15:46:25.443377",
     "status": "completed"
    },
    "tags": []
   },
   "outputs": [],
   "source": [
    "import pandas as pd\n",
    "from sklearn.model_selection import train_test_split\n",
    "from sklearn.feature_extraction.text import CountVectorizer\n",
    "import spacy"
   ]
  },
  {
   "cell_type": "code",
   "execution_count": 3,
   "id": "828eb7c8",
   "metadata": {
    "execution": {
     "iopub.execute_input": "2023-09-09T15:46:43.289989Z",
     "iopub.status.busy": "2023-09-09T15:46:43.289273Z",
     "iopub.status.idle": "2023-09-09T15:46:43.309776Z",
     "shell.execute_reply": "2023-09-09T15:46:43.308275Z"
    },
    "papermill": {
     "duration": 0.031331,
     "end_time": "2023-09-09T15:46:43.312903",
     "exception": false,
     "start_time": "2023-09-09T15:46:43.281572",
     "status": "completed"
    },
    "tags": []
   },
   "outputs": [],
   "source": [
    "data = pd.read_csv(\"google_play_store_apps_reviews_training.csv\")"
   ]
  },
  {
   "cell_type": "code",
   "execution_count": 4,
   "id": "b2dc9d49",
   "metadata": {
    "execution": {
     "iopub.execute_input": "2023-09-09T15:46:43.327420Z",
     "iopub.status.busy": "2023-09-09T15:46:43.326979Z",
     "iopub.status.idle": "2023-09-09T15:46:59.110314Z",
     "shell.execute_reply": "2023-09-09T15:46:59.109124Z"
    },
    "papermill": {
     "duration": 15.794278,
     "end_time": "2023-09-09T15:46:59.113349",
     "exception": false,
     "start_time": "2023-09-09T15:46:43.319071",
     "status": "completed"
    },
    "tags": []
   },
   "outputs": [],
   "source": [
    "nlp = spacy.load(\"en_core_web_sm\")\n",
    "stopwords = nlp.Defaults.stop_words\n",
    "\n",
    "reviews = data[\"review\"]\n",
    "\n",
    "def remove_stop_punct(review):\n",
    "    review_doc = nlp(review.strip())\n",
    "    review_cln = [token.text_with_ws for token in review_doc if not token.is_stop and not token.is_punct]\n",
    "    review_cln = \"\".join(review_cln)\n",
    "    return review_cln\n",
    "\n",
    "data[\"review\"] = list(map(remove_stop_punct, reviews))"
   ]
  },
  {
   "cell_type": "code",
   "execution_count": 5,
   "id": "f52d40e8",
   "metadata": {
    "execution": {
     "iopub.execute_input": "2023-09-09T15:46:59.126767Z",
     "iopub.status.busy": "2023-09-09T15:46:59.126319Z",
     "iopub.status.idle": "2023-09-09T15:46:59.143804Z",
     "shell.execute_reply": "2023-09-09T15:46:59.142545Z"
    },
    "papermill": {
     "duration": 0.027131,
     "end_time": "2023-09-09T15:46:59.146426",
     "exception": false,
     "start_time": "2023-09-09T15:46:59.119295",
     "status": "completed"
    },
    "tags": []
   },
   "outputs": [
    {
     "data": {
      "text/html": [
       "<div>\n",
       "<style scoped>\n",
       "    .dataframe tbody tr th:only-of-type {\n",
       "        vertical-align: middle;\n",
       "    }\n",
       "\n",
       "    .dataframe tbody tr th {\n",
       "        vertical-align: top;\n",
       "    }\n",
       "\n",
       "    .dataframe thead th {\n",
       "        text-align: right;\n",
       "    }\n",
       "</style>\n",
       "<table border=\"1\" class=\"dataframe\">\n",
       "  <thead>\n",
       "    <tr style=\"text-align: right;\">\n",
       "      <th></th>\n",
       "      <th>package_name</th>\n",
       "      <th>review</th>\n",
       "      <th>polarity</th>\n",
       "    </tr>\n",
       "  </thead>\n",
       "  <tbody>\n",
       "    <tr>\n",
       "      <th>0</th>\n",
       "      <td>com.facebook.katana</td>\n",
       "      <td>privacy option appear offlinemean people like ...</td>\n",
       "      <td>0</td>\n",
       "    </tr>\n",
       "    <tr>\n",
       "      <th>1</th>\n",
       "      <td>com.facebook.katana</td>\n",
       "      <td>messenger issues updateinitial received messag...</td>\n",
       "      <td>0</td>\n",
       "    </tr>\n",
       "    <tr>\n",
       "      <th>2</th>\n",
       "      <td>com.facebook.katana</td>\n",
       "      <td>profile time wife anybody post view profile vi...</td>\n",
       "      <td>0</td>\n",
       "    </tr>\n",
       "    <tr>\n",
       "      <th>3</th>\n",
       "      <td>com.facebook.katana</td>\n",
       "      <td>new features suck working button guys videos a...</td>\n",
       "      <td>0</td>\n",
       "    </tr>\n",
       "    <tr>\n",
       "      <th>4</th>\n",
       "      <td>com.facebook.katana</td>\n",
       "      <td>forced reload uploading pic replying comment n...</td>\n",
       "      <td>0</td>\n",
       "    </tr>\n",
       "  </tbody>\n",
       "</table>\n",
       "</div>"
      ],
      "text/plain": [
       "          package_name                                             review  \\\n",
       "0  com.facebook.katana  privacy option appear offlinemean people like ...   \n",
       "1  com.facebook.katana  messenger issues updateinitial received messag...   \n",
       "2  com.facebook.katana  profile time wife anybody post view profile vi...   \n",
       "3  com.facebook.katana  new features suck working button guys videos a...   \n",
       "4  com.facebook.katana  forced reload uploading pic replying comment n...   \n",
       "\n",
       "   polarity  \n",
       "0         0  \n",
       "1         0  \n",
       "2         0  \n",
       "3         0  \n",
       "4         0  "
      ]
     },
     "execution_count": 5,
     "metadata": {},
     "output_type": "execute_result"
    }
   ],
   "source": [
    "data.head()"
   ]
  },
  {
   "cell_type": "code",
   "execution_count": 6,
   "id": "1d9690b2",
   "metadata": {
    "execution": {
     "iopub.execute_input": "2023-09-09T15:46:59.161152Z",
     "iopub.status.busy": "2023-09-09T15:46:59.160727Z",
     "iopub.status.idle": "2023-09-09T15:46:59.243247Z",
     "shell.execute_reply": "2023-09-09T15:46:59.241824Z"
    },
    "papermill": {
     "duration": 0.093061,
     "end_time": "2023-09-09T15:46:59.245809",
     "exception": false,
     "start_time": "2023-09-09T15:46:59.152748",
     "status": "completed"
    },
    "tags": []
   },
   "outputs": [
    {
     "data": {
      "text/plain": [
       "0.6977611940298507"
      ]
     },
     "execution_count": 6,
     "metadata": {},
     "output_type": "execute_result"
    }
   ],
   "source": [
    "# split the dataset\n",
    "RANDOM_STATE = 7\n",
    "\n",
    "vec = CountVectorizer(stop_words=\"english\", ngram_range=(1,1))\n",
    "\n",
    "X, y = vec.fit_transform(data[\"review\"]), data[\"polarity\"]\n",
    "\n",
    "X_train, X_test, y_train, y_test = train_test_split(X, y, test_size=0.3, random_state=RANDOM_STATE)\n",
    "\n",
    "# create model\n",
    "from sklearn.naive_bayes import MultinomialNB\n",
    "\n",
    "model = MultinomialNB()\n",
    "model.fit(X_train, y_train)\n",
    "\n",
    "from sklearn.metrics import accuracy_score\n",
    "\n",
    "pred = model.predict(X_test)\n",
    "score = accuracy_score(pred, y_test)\n",
    "score"
   ]
  },
  {
   "cell_type": "markdown",
   "id": "0dd0a462",
   "metadata": {
    "papermill": {
     "duration": 0.006056,
     "end_time": "2023-09-09T15:46:59.258303",
     "exception": false,
     "start_time": "2023-09-09T15:46:59.252247",
     "status": "completed"
    },
    "tags": []
   },
   "source": [
    "Still bad result, need more improvements"
   ]
  },
  {
   "cell_type": "code",
   "execution_count": null,
   "id": "051dff9b",
   "metadata": {
    "papermill": {
     "duration": 0.006004,
     "end_time": "2023-09-09T15:46:59.270565",
     "exception": false,
     "start_time": "2023-09-09T15:46:59.264561",
     "status": "completed"
    },
    "tags": []
   },
   "outputs": [],
   "source": []
  }
 ],
 "kernelspec": {
  "display_name": "Python 3",
  "language": "python",
  "name": "python3"
 },
 "language_info": {
  "codemirror_mode": {
   "name": "ipython",
   "version": 3
  },
  "file_extension": ".py",
  "mimetype": "text/x-python",
  "name": "python",
  "nbconvert_exporter": "python",
  "pygments_lexer": "ipython3",
  "version": "3.6.4"
 },
 "metadata": {
  "kernelspec": {
   "display_name": "Python 3",
   "language": "python",
   "name": "python3"
  },
  "language_info": {
   "codemirror_mode": {
    "name": "ipython",
    "version": 3
   },
   "file_extension": ".py",
   "mimetype": "text/x-python",
   "name": "python",
   "nbconvert_exporter": "python",
   "pygments_lexer": "ipython3",
   "version": "3.10.12"
  },
  "papermill": {
   "default_parameters": {},
   "duration": 41.584839,
   "end_time": "2023-09-09T15:47:01.797830",
   "environment_variables": {},
   "exception": null,
   "input_path": "__notebook__.ipynb",
   "output_path": "__notebook__.ipynb",
   "parameters": {},
   "start_time": "2023-09-09T15:46:20.212991",
   "version": "2.4.0"
  }
 },
 "nbformat": 4,
 "nbformat_minor": 5
}
